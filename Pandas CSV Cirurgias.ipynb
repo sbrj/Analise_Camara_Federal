{
 "cells": [
  {
   "cell_type": "code",
   "execution_count": 1,
   "metadata": {},
   "outputs": [],
   "source": [
    "import pandas as pd"
   ]
  },
  {
   "cell_type": "code",
   "execution_count": 2,
   "metadata": {},
   "outputs": [],
   "source": [
    "#informar sobre gráficos inline"
   ]
  },
  {
   "cell_type": "code",
   "execution_count": 3,
   "metadata": {},
   "outputs": [],
   "source": [
    "%matplotlib inline"
   ]
  },
  {
   "cell_type": "code",
   "execution_count": 6,
   "metadata": {},
   "outputs": [],
   "source": [
    "# Usar apenas as colunas 3, 6, 7, 8, 12, 14\n",
    "df2 = pd.read_csv('sih-janeiro-2017-cirurgias-eletiva-e-emergencia.csv', sep=';', encoding='cp1252', usecols=['Estabelecimento cnes', 'Municipio do estabelecimento', 'Complexidade do Procedimento', 'Carater da internaca/ATENDIMENTO', 'Sub grupo procedimento realizado', 'Procedimento realizado'])"
   ]
  },
  {
   "cell_type": "code",
   "execution_count": 8,
   "metadata": {},
   "outputs": [],
   "source": [
    "df2 = pd.read_csv('sih-janeiro-2017-cirurgias-eletiva-e-emergencia.csv', sep=';', encoding='cp1252', usecols=[3,6,7,8,12,14])"
   ]
  },
  {
   "cell_type": "code",
   "execution_count": 10,
   "metadata": {},
   "outputs": [],
   "source": [
    "df2.columns = ['Hospital', 'Municipio', 'Complexidade', 'Atendimento', 'SubGrupo Proced', 'Procedimento']"
   ]
  },
  {
   "cell_type": "code",
   "execution_count": 11,
   "metadata": {},
   "outputs": [
    {
     "data": {
      "text/html": [
       "<div>\n",
       "<style scoped>\n",
       "    .dataframe tbody tr th:only-of-type {\n",
       "        vertical-align: middle;\n",
       "    }\n",
       "\n",
       "    .dataframe tbody tr th {\n",
       "        vertical-align: top;\n",
       "    }\n",
       "\n",
       "    .dataframe thead th {\n",
       "        text-align: right;\n",
       "    }\n",
       "</style>\n",
       "<table border=\"1\" class=\"dataframe\">\n",
       "  <thead>\n",
       "    <tr style=\"text-align: right;\">\n",
       "      <th></th>\n",
       "      <th>Hospital</th>\n",
       "      <th>Municipio</th>\n",
       "      <th>Complexidade</th>\n",
       "      <th>Atendimento</th>\n",
       "      <th>SubGrupo Proced</th>\n",
       "      <th>Procedimento</th>\n",
       "    </tr>\n",
       "  </thead>\n",
       "  <tbody>\n",
       "    <tr>\n",
       "      <th>0</th>\n",
       "      <td>6876617 HOSPITAL DA CRIANCA DE BRASILIA JOSE A...</td>\n",
       "      <td>BRASILIA, DF, BR</td>\n",
       "      <td>Média complexidade</td>\n",
       "      <td>Eletivo</td>\n",
       "      <td>Sub Grupo: 15 - Outras cirurgias</td>\n",
       "      <td>TRATAMENTO C/ CIRURGIAS MULTIPLAS</td>\n",
       "    </tr>\n",
       "    <tr>\n",
       "      <th>1</th>\n",
       "      <td>0010456 HBDF HOSPITAL DE BASE DO DISTRITO FEDERAL</td>\n",
       "      <td>BRASILIA, DF, BR</td>\n",
       "      <td>Média complexidade</td>\n",
       "      <td>Urgência</td>\n",
       "      <td>Sub Grupo: 03 - Cirurgia do sistema nervoso ce...</td>\n",
       "      <td>DERIVACAO VENTRICULAR EXTERNAR-SUBGALEAL EXTERNA</td>\n",
       "    </tr>\n",
       "    <tr>\n",
       "      <th>2</th>\n",
       "      <td>0010456 HBDF HOSPITAL DE BASE DO DISTRITO FEDERAL</td>\n",
       "      <td>BRASILIA, DF, BR</td>\n",
       "      <td>Média complexidade</td>\n",
       "      <td>Urgência</td>\n",
       "      <td>Sub Grupo: 15 - Outras cirurgias</td>\n",
       "      <td>TRATAMENTO C/ CIRURGIAS MULTIPLAS</td>\n",
       "    </tr>\n",
       "    <tr>\n",
       "      <th>3</th>\n",
       "      <td>6876617 HOSPITAL DA CRIANCA DE BRASILIA JOSE A...</td>\n",
       "      <td>BRASILIA, DF, BR</td>\n",
       "      <td>Média complexidade</td>\n",
       "      <td>Eletivo</td>\n",
       "      <td>Sub Grupo: 07 - Cirurgia do aparelho digestivo...</td>\n",
       "      <td>HERNIOPLASTIA UMBILICAL</td>\n",
       "    </tr>\n",
       "    <tr>\n",
       "      <th>4</th>\n",
       "      <td>0010456 HBDF HOSPITAL DE BASE DO DISTRITO FEDERAL</td>\n",
       "      <td>BRASILIA, DF, BR</td>\n",
       "      <td>Alta complexidade</td>\n",
       "      <td>Eletivo</td>\n",
       "      <td>Sub Grupo: 16 - Cirurgia em oncologia</td>\n",
       "      <td>RESSECCAO DE TUMOR DE PARTES MOLES EM ONCOLOGIA</td>\n",
       "    </tr>\n",
       "    <tr>\n",
       "      <th>...</th>\n",
       "      <td>...</td>\n",
       "      <td>...</td>\n",
       "      <td>...</td>\n",
       "      <td>...</td>\n",
       "      <td>...</td>\n",
       "      <td>...</td>\n",
       "    </tr>\n",
       "    <tr>\n",
       "      <th>4857</th>\n",
       "      <td>0010480 HOSPITAL REGIONAL DE CEILANDIA</td>\n",
       "      <td>CEILANDIA, DF, BR</td>\n",
       "      <td>Média complexidade</td>\n",
       "      <td>Eletivo</td>\n",
       "      <td>Sub Grupo: 09 - Cirurgia do aparelho geniturin...</td>\n",
       "      <td>VASECTOMIA</td>\n",
       "    </tr>\n",
       "    <tr>\n",
       "      <th>4858</th>\n",
       "      <td>0010480 HOSPITAL REGIONAL DE CEILANDIA</td>\n",
       "      <td>CEILANDIA, DF, BR</td>\n",
       "      <td>Média complexidade</td>\n",
       "      <td>Eletivo</td>\n",
       "      <td>Sub Grupo: 09 - Cirurgia do aparelho geniturin...</td>\n",
       "      <td>VASECTOMIA</td>\n",
       "    </tr>\n",
       "    <tr>\n",
       "      <th>4859</th>\n",
       "      <td>0010480 HOSPITAL REGIONAL DE CEILANDIA</td>\n",
       "      <td>CEILANDIA, DF, BR</td>\n",
       "      <td>Média complexidade</td>\n",
       "      <td>Urgência</td>\n",
       "      <td>Sub Grupo: 08 - Cirurgia do sistema osteomuscular</td>\n",
       "      <td>ARTROPLASTIA TOTAL PRIMÁRIA DO QUADRIL CIMENTADA</td>\n",
       "    </tr>\n",
       "    <tr>\n",
       "      <th>4860</th>\n",
       "      <td>0010472 HRG</td>\n",
       "      <td>GAMA, DF, BR</td>\n",
       "      <td>Alta complexidade</td>\n",
       "      <td>Urgência</td>\n",
       "      <td>Sub Grupo: 16 - Cirurgia em oncologia</td>\n",
       "      <td>AMPUTACAO ABDOMINO-PERINEAL DE RETO EM ONCOLOGIA</td>\n",
       "    </tr>\n",
       "    <tr>\n",
       "      <th>4861</th>\n",
       "      <td>0010480 HOSPITAL REGIONAL DE CEILANDIA</td>\n",
       "      <td>CEILANDIA, DF, BR</td>\n",
       "      <td>Média complexidade</td>\n",
       "      <td>Urgência</td>\n",
       "      <td>Sub Grupo: 07 - Cirurgia do aparelho digestivo...</td>\n",
       "      <td>LAPAROTOMIA EXPLORADORA</td>\n",
       "    </tr>\n",
       "  </tbody>\n",
       "</table>\n",
       "<p>4862 rows × 6 columns</p>\n",
       "</div>"
      ],
      "text/plain": [
       "                                               Hospital           Municipio  \\\n",
       "0     6876617 HOSPITAL DA CRIANCA DE BRASILIA JOSE A...   BRASILIA, DF, BR    \n",
       "1     0010456 HBDF HOSPITAL DE BASE DO DISTRITO FEDERAL   BRASILIA, DF, BR    \n",
       "2     0010456 HBDF HOSPITAL DE BASE DO DISTRITO FEDERAL   BRASILIA, DF, BR    \n",
       "3     6876617 HOSPITAL DA CRIANCA DE BRASILIA JOSE A...   BRASILIA, DF, BR    \n",
       "4     0010456 HBDF HOSPITAL DE BASE DO DISTRITO FEDERAL   BRASILIA, DF, BR    \n",
       "...                                                 ...                 ...   \n",
       "4857             0010480 HOSPITAL REGIONAL DE CEILANDIA  CEILANDIA, DF, BR    \n",
       "4858             0010480 HOSPITAL REGIONAL DE CEILANDIA  CEILANDIA, DF, BR    \n",
       "4859             0010480 HOSPITAL REGIONAL DE CEILANDIA  CEILANDIA, DF, BR    \n",
       "4860                                        0010472 HRG       GAMA, DF, BR    \n",
       "4861             0010480 HOSPITAL REGIONAL DE CEILANDIA  CEILANDIA, DF, BR    \n",
       "\n",
       "            Complexidade Atendimento  \\\n",
       "0     Média complexidade     Eletivo   \n",
       "1     Média complexidade    Urgência   \n",
       "2     Média complexidade    Urgência   \n",
       "3     Média complexidade     Eletivo   \n",
       "4      Alta complexidade     Eletivo   \n",
       "...                  ...         ...   \n",
       "4857  Média complexidade     Eletivo   \n",
       "4858  Média complexidade     Eletivo   \n",
       "4859  Média complexidade    Urgência   \n",
       "4860   Alta complexidade    Urgência   \n",
       "4861  Média complexidade    Urgência   \n",
       "\n",
       "                                        SubGrupo Proced  \\\n",
       "0                      Sub Grupo: 15 - Outras cirurgias   \n",
       "1     Sub Grupo: 03 - Cirurgia do sistema nervoso ce...   \n",
       "2                      Sub Grupo: 15 - Outras cirurgias   \n",
       "3     Sub Grupo: 07 - Cirurgia do aparelho digestivo...   \n",
       "4                 Sub Grupo: 16 - Cirurgia em oncologia   \n",
       "...                                                 ...   \n",
       "4857  Sub Grupo: 09 - Cirurgia do aparelho geniturin...   \n",
       "4858  Sub Grupo: 09 - Cirurgia do aparelho geniturin...   \n",
       "4859  Sub Grupo: 08 - Cirurgia do sistema osteomuscular   \n",
       "4860              Sub Grupo: 16 - Cirurgia em oncologia   \n",
       "4861  Sub Grupo: 07 - Cirurgia do aparelho digestivo...   \n",
       "\n",
       "                                          Procedimento  \n",
       "0                    TRATAMENTO C/ CIRURGIAS MULTIPLAS  \n",
       "1     DERIVACAO VENTRICULAR EXTERNAR-SUBGALEAL EXTERNA  \n",
       "2                    TRATAMENTO C/ CIRURGIAS MULTIPLAS  \n",
       "3                              HERNIOPLASTIA UMBILICAL  \n",
       "4      RESSECCAO DE TUMOR DE PARTES MOLES EM ONCOLOGIA  \n",
       "...                                                ...  \n",
       "4857                                        VASECTOMIA  \n",
       "4858                                        VASECTOMIA  \n",
       "4859  ARTROPLASTIA TOTAL PRIMÁRIA DO QUADRIL CIMENTADA  \n",
       "4860  AMPUTACAO ABDOMINO-PERINEAL DE RETO EM ONCOLOGIA  \n",
       "4861                           LAPAROTOMIA EXPLORADORA  \n",
       "\n",
       "[4862 rows x 6 columns]"
      ]
     },
     "execution_count": 11,
     "metadata": {},
     "output_type": "execute_result"
    }
   ],
   "source": [
    "df2"
   ]
  },
  {
   "cell_type": "code",
   "execution_count": 12,
   "metadata": {},
   "outputs": [
    {
     "data": {
      "text/plain": [
       "Urgência                                                           3794\n",
       "Eletivo                                                             977\n",
       "Outros tipos lesões/envenenamentos por agentes químicos/físicos      60\n",
       "Outros tipo de acidente de trânsito                                  31\n",
       "Name: Atendimento, dtype: int64"
      ]
     },
     "execution_count": 12,
     "metadata": {},
     "output_type": "execute_result"
    }
   ],
   "source": [
    "df2['Atendimento'].value_counts()"
   ]
  },
  {
   "cell_type": "code",
   "execution_count": 13,
   "metadata": {},
   "outputs": [
    {
     "data": {
      "text/plain": [
       "Média complexidade    4353\n",
       "Alta complexidade      509\n",
       "Name: Complexidade, dtype: int64"
      ]
     },
     "execution_count": 13,
     "metadata": {},
     "output_type": "execute_result"
    }
   ],
   "source": [
    "df2['Complexidade'].value_counts()"
   ]
  },
  {
   "cell_type": "code",
   "execution_count": 17,
   "metadata": {},
   "outputs": [],
   "source": [
    "md_com = df2[df2['Complexidade'] == 'Média complexidade']"
   ]
  },
  {
   "cell_type": "code",
   "execution_count": 18,
   "metadata": {},
   "outputs": [
    {
     "data": {
      "text/html": [
       "<div>\n",
       "<style scoped>\n",
       "    .dataframe tbody tr th:only-of-type {\n",
       "        vertical-align: middle;\n",
       "    }\n",
       "\n",
       "    .dataframe tbody tr th {\n",
       "        vertical-align: top;\n",
       "    }\n",
       "\n",
       "    .dataframe thead th {\n",
       "        text-align: right;\n",
       "    }\n",
       "</style>\n",
       "<table border=\"1\" class=\"dataframe\">\n",
       "  <thead>\n",
       "    <tr style=\"text-align: right;\">\n",
       "      <th></th>\n",
       "      <th>Hospital</th>\n",
       "      <th>Municipio</th>\n",
       "      <th>Complexidade</th>\n",
       "      <th>Atendimento</th>\n",
       "      <th>SubGrupo Proced</th>\n",
       "      <th>Procedimento</th>\n",
       "    </tr>\n",
       "  </thead>\n",
       "  <tbody>\n",
       "    <tr>\n",
       "      <th>0</th>\n",
       "      <td>6876617 HOSPITAL DA CRIANCA DE BRASILIA JOSE A...</td>\n",
       "      <td>BRASILIA, DF, BR</td>\n",
       "      <td>Média complexidade</td>\n",
       "      <td>Eletivo</td>\n",
       "      <td>Sub Grupo: 15 - Outras cirurgias</td>\n",
       "      <td>TRATAMENTO C/ CIRURGIAS MULTIPLAS</td>\n",
       "    </tr>\n",
       "    <tr>\n",
       "      <th>1</th>\n",
       "      <td>0010456 HBDF HOSPITAL DE BASE DO DISTRITO FEDERAL</td>\n",
       "      <td>BRASILIA, DF, BR</td>\n",
       "      <td>Média complexidade</td>\n",
       "      <td>Urgência</td>\n",
       "      <td>Sub Grupo: 03 - Cirurgia do sistema nervoso ce...</td>\n",
       "      <td>DERIVACAO VENTRICULAR EXTERNAR-SUBGALEAL EXTERNA</td>\n",
       "    </tr>\n",
       "    <tr>\n",
       "      <th>2</th>\n",
       "      <td>0010456 HBDF HOSPITAL DE BASE DO DISTRITO FEDERAL</td>\n",
       "      <td>BRASILIA, DF, BR</td>\n",
       "      <td>Média complexidade</td>\n",
       "      <td>Urgência</td>\n",
       "      <td>Sub Grupo: 15 - Outras cirurgias</td>\n",
       "      <td>TRATAMENTO C/ CIRURGIAS MULTIPLAS</td>\n",
       "    </tr>\n",
       "    <tr>\n",
       "      <th>3</th>\n",
       "      <td>6876617 HOSPITAL DA CRIANCA DE BRASILIA JOSE A...</td>\n",
       "      <td>BRASILIA, DF, BR</td>\n",
       "      <td>Média complexidade</td>\n",
       "      <td>Eletivo</td>\n",
       "      <td>Sub Grupo: 07 - Cirurgia do aparelho digestivo...</td>\n",
       "      <td>HERNIOPLASTIA UMBILICAL</td>\n",
       "    </tr>\n",
       "    <tr>\n",
       "      <th>6</th>\n",
       "      <td>0010456 HBDF HOSPITAL DE BASE DO DISTRITO FEDERAL</td>\n",
       "      <td>BRASILIA, DF, BR</td>\n",
       "      <td>Média complexidade</td>\n",
       "      <td>Urgência</td>\n",
       "      <td>Sub Grupo: 06 - Cirurgia do aparelho circulatório</td>\n",
       "      <td>TRATAMENTO CIRURGICO DE LESOES VASCULARES TRAU...</td>\n",
       "    </tr>\n",
       "    <tr>\n",
       "      <th>...</th>\n",
       "      <td>...</td>\n",
       "      <td>...</td>\n",
       "      <td>...</td>\n",
       "      <td>...</td>\n",
       "      <td>...</td>\n",
       "      <td>...</td>\n",
       "    </tr>\n",
       "    <tr>\n",
       "      <th>4856</th>\n",
       "      <td>0010472 HRG</td>\n",
       "      <td>GAMA, DF, BR</td>\n",
       "      <td>Média complexidade</td>\n",
       "      <td>Urgência</td>\n",
       "      <td>Sub Grupo: 15 - Outras cirurgias</td>\n",
       "      <td>TRATAMENTO C/ CIRURGIAS MULTIPLAS</td>\n",
       "    </tr>\n",
       "    <tr>\n",
       "      <th>4857</th>\n",
       "      <td>0010480 HOSPITAL REGIONAL DE CEILANDIA</td>\n",
       "      <td>CEILANDIA, DF, BR</td>\n",
       "      <td>Média complexidade</td>\n",
       "      <td>Eletivo</td>\n",
       "      <td>Sub Grupo: 09 - Cirurgia do aparelho geniturin...</td>\n",
       "      <td>VASECTOMIA</td>\n",
       "    </tr>\n",
       "    <tr>\n",
       "      <th>4858</th>\n",
       "      <td>0010480 HOSPITAL REGIONAL DE CEILANDIA</td>\n",
       "      <td>CEILANDIA, DF, BR</td>\n",
       "      <td>Média complexidade</td>\n",
       "      <td>Eletivo</td>\n",
       "      <td>Sub Grupo: 09 - Cirurgia do aparelho geniturin...</td>\n",
       "      <td>VASECTOMIA</td>\n",
       "    </tr>\n",
       "    <tr>\n",
       "      <th>4859</th>\n",
       "      <td>0010480 HOSPITAL REGIONAL DE CEILANDIA</td>\n",
       "      <td>CEILANDIA, DF, BR</td>\n",
       "      <td>Média complexidade</td>\n",
       "      <td>Urgência</td>\n",
       "      <td>Sub Grupo: 08 - Cirurgia do sistema osteomuscular</td>\n",
       "      <td>ARTROPLASTIA TOTAL PRIMÁRIA DO QUADRIL CIMENTADA</td>\n",
       "    </tr>\n",
       "    <tr>\n",
       "      <th>4861</th>\n",
       "      <td>0010480 HOSPITAL REGIONAL DE CEILANDIA</td>\n",
       "      <td>CEILANDIA, DF, BR</td>\n",
       "      <td>Média complexidade</td>\n",
       "      <td>Urgência</td>\n",
       "      <td>Sub Grupo: 07 - Cirurgia do aparelho digestivo...</td>\n",
       "      <td>LAPAROTOMIA EXPLORADORA</td>\n",
       "    </tr>\n",
       "  </tbody>\n",
       "</table>\n",
       "<p>4353 rows × 6 columns</p>\n",
       "</div>"
      ],
      "text/plain": [
       "                                               Hospital           Municipio  \\\n",
       "0     6876617 HOSPITAL DA CRIANCA DE BRASILIA JOSE A...   BRASILIA, DF, BR    \n",
       "1     0010456 HBDF HOSPITAL DE BASE DO DISTRITO FEDERAL   BRASILIA, DF, BR    \n",
       "2     0010456 HBDF HOSPITAL DE BASE DO DISTRITO FEDERAL   BRASILIA, DF, BR    \n",
       "3     6876617 HOSPITAL DA CRIANCA DE BRASILIA JOSE A...   BRASILIA, DF, BR    \n",
       "6     0010456 HBDF HOSPITAL DE BASE DO DISTRITO FEDERAL   BRASILIA, DF, BR    \n",
       "...                                                 ...                 ...   \n",
       "4856                                        0010472 HRG       GAMA, DF, BR    \n",
       "4857             0010480 HOSPITAL REGIONAL DE CEILANDIA  CEILANDIA, DF, BR    \n",
       "4858             0010480 HOSPITAL REGIONAL DE CEILANDIA  CEILANDIA, DF, BR    \n",
       "4859             0010480 HOSPITAL REGIONAL DE CEILANDIA  CEILANDIA, DF, BR    \n",
       "4861             0010480 HOSPITAL REGIONAL DE CEILANDIA  CEILANDIA, DF, BR    \n",
       "\n",
       "            Complexidade Atendimento  \\\n",
       "0     Média complexidade     Eletivo   \n",
       "1     Média complexidade    Urgência   \n",
       "2     Média complexidade    Urgência   \n",
       "3     Média complexidade     Eletivo   \n",
       "6     Média complexidade    Urgência   \n",
       "...                  ...         ...   \n",
       "4856  Média complexidade    Urgência   \n",
       "4857  Média complexidade     Eletivo   \n",
       "4858  Média complexidade     Eletivo   \n",
       "4859  Média complexidade    Urgência   \n",
       "4861  Média complexidade    Urgência   \n",
       "\n",
       "                                        SubGrupo Proced  \\\n",
       "0                      Sub Grupo: 15 - Outras cirurgias   \n",
       "1     Sub Grupo: 03 - Cirurgia do sistema nervoso ce...   \n",
       "2                      Sub Grupo: 15 - Outras cirurgias   \n",
       "3     Sub Grupo: 07 - Cirurgia do aparelho digestivo...   \n",
       "6     Sub Grupo: 06 - Cirurgia do aparelho circulatório   \n",
       "...                                                 ...   \n",
       "4856                   Sub Grupo: 15 - Outras cirurgias   \n",
       "4857  Sub Grupo: 09 - Cirurgia do aparelho geniturin...   \n",
       "4858  Sub Grupo: 09 - Cirurgia do aparelho geniturin...   \n",
       "4859  Sub Grupo: 08 - Cirurgia do sistema osteomuscular   \n",
       "4861  Sub Grupo: 07 - Cirurgia do aparelho digestivo...   \n",
       "\n",
       "                                           Procedimento  \n",
       "0                     TRATAMENTO C/ CIRURGIAS MULTIPLAS  \n",
       "1      DERIVACAO VENTRICULAR EXTERNAR-SUBGALEAL EXTERNA  \n",
       "2                     TRATAMENTO C/ CIRURGIAS MULTIPLAS  \n",
       "3                               HERNIOPLASTIA UMBILICAL  \n",
       "6     TRATAMENTO CIRURGICO DE LESOES VASCULARES TRAU...  \n",
       "...                                                 ...  \n",
       "4856                  TRATAMENTO C/ CIRURGIAS MULTIPLAS  \n",
       "4857                                         VASECTOMIA  \n",
       "4858                                         VASECTOMIA  \n",
       "4859   ARTROPLASTIA TOTAL PRIMÁRIA DO QUADRIL CIMENTADA  \n",
       "4861                            LAPAROTOMIA EXPLORADORA  \n",
       "\n",
       "[4353 rows x 6 columns]"
      ]
     },
     "execution_count": 18,
     "metadata": {},
     "output_type": "execute_result"
    }
   ],
   "source": [
    "md_com "
   ]
  },
  {
   "cell_type": "code",
   "execution_count": 19,
   "metadata": {},
   "outputs": [
    {
     "data": {
      "text/plain": [
       "BRASILIA, DF, BR        1630\n",
       "GAMA, DF, BR             547\n",
       "CEILANDIA, DF, BR        459\n",
       "TAGUATINGA, DF, BR       356\n",
       "PARANOA, DF, BR          315\n",
       "SANTA MARIA, DF, BR      281\n",
       "PLANALTINA, DF, BR       256\n",
       "SOBRADINHO, DF, BR       222\n",
       "SAMAMBAIA, DF, BR        195\n",
       "BRAZLANDIA, DF, BR        75\n",
       "CRUZEIRO, DF, BR          17\n",
       "Name: Municipio, dtype: int64"
      ]
     },
     "execution_count": 19,
     "metadata": {},
     "output_type": "execute_result"
    }
   ],
   "source": [
    "md_com['Municipio'].value_counts()"
   ]
  },
  {
   "cell_type": "code",
   "execution_count": 25,
   "metadata": {},
   "outputs": [
    {
     "data": {
      "text/html": [
       "<div>\n",
       "<style scoped>\n",
       "    .dataframe tbody tr th:only-of-type {\n",
       "        vertical-align: middle;\n",
       "    }\n",
       "\n",
       "    .dataframe tbody tr th {\n",
       "        vertical-align: top;\n",
       "    }\n",
       "\n",
       "    .dataframe thead th {\n",
       "        text-align: right;\n",
       "    }\n",
       "</style>\n",
       "<table border=\"1\" class=\"dataframe\">\n",
       "  <thead>\n",
       "    <tr style=\"text-align: right;\">\n",
       "      <th></th>\n",
       "      <th>Hospital</th>\n",
       "      <th>Municipio</th>\n",
       "      <th>Complexidade</th>\n",
       "      <th>Atendimento</th>\n",
       "      <th>SubGrupo Proced</th>\n",
       "      <th>Procedimento</th>\n",
       "    </tr>\n",
       "  </thead>\n",
       "  <tbody>\n",
       "    <tr>\n",
       "      <th>count</th>\n",
       "      <td>4353</td>\n",
       "      <td>4353</td>\n",
       "      <td>4353</td>\n",
       "      <td>4353</td>\n",
       "      <td>4353</td>\n",
       "      <td>4353</td>\n",
       "    </tr>\n",
       "    <tr>\n",
       "      <th>unique</th>\n",
       "      <td>16</td>\n",
       "      <td>11</td>\n",
       "      <td>1</td>\n",
       "      <td>4</td>\n",
       "      <td>15</td>\n",
       "      <td>371</td>\n",
       "    </tr>\n",
       "    <tr>\n",
       "      <th>top</th>\n",
       "      <td>0010456 HBDF HOSPITAL DE BASE DO DISTRITO FEDERAL</td>\n",
       "      <td>BRASILIA, DF, BR</td>\n",
       "      <td>Média complexidade</td>\n",
       "      <td>Urgência</td>\n",
       "      <td>Sub Grupo: 11 - Cirurgia obstétrica</td>\n",
       "      <td>PARTO CESARIANO</td>\n",
       "    </tr>\n",
       "    <tr>\n",
       "      <th>freq</th>\n",
       "      <td>551</td>\n",
       "      <td>1630</td>\n",
       "      <td>4353</td>\n",
       "      <td>3537</td>\n",
       "      <td>1539</td>\n",
       "      <td>1060</td>\n",
       "    </tr>\n",
       "  </tbody>\n",
       "</table>\n",
       "</div>"
      ],
      "text/plain": [
       "                                                 Hospital          Municipio  \\\n",
       "count                                                4353               4353   \n",
       "unique                                                 16                 11   \n",
       "top     0010456 HBDF HOSPITAL DE BASE DO DISTRITO FEDERAL  BRASILIA, DF, BR    \n",
       "freq                                                  551               1630   \n",
       "\n",
       "              Complexidade Atendimento                      SubGrupo Proced  \\\n",
       "count                 4353        4353                                 4353   \n",
       "unique                   1           4                                   15   \n",
       "top     Média complexidade    Urgência  Sub Grupo: 11 - Cirurgia obstétrica   \n",
       "freq                  4353        3537                                 1539   \n",
       "\n",
       "           Procedimento  \n",
       "count              4353  \n",
       "unique              371  \n",
       "top     PARTO CESARIANO  \n",
       "freq               1060  "
      ]
     },
     "execution_count": 25,
     "metadata": {},
     "output_type": "execute_result"
    }
   ],
   "source": [
    "md_com.describe()"
   ]
  },
  {
   "cell_type": "code",
   "execution_count": 28,
   "metadata": {},
   "outputs": [
    {
     "data": {
      "text/plain": [
       "371"
      ]
     },
     "execution_count": 28,
     "metadata": {},
     "output_type": "execute_result"
    }
   ],
   "source": [
    "md_com['Procedimento'].nunique()"
   ]
  },
  {
   "cell_type": "code",
   "execution_count": 31,
   "metadata": {},
   "outputs": [],
   "source": [
    "vas = md_com[md_com['Procedimento'] == 'VASECTOMIA']"
   ]
  },
  {
   "cell_type": "code",
   "execution_count": 34,
   "metadata": {},
   "outputs": [
    {
     "data": {
      "text/plain": [
       "Urgência    21\n",
       "Eletivo     21\n",
       "Name: Atendimento, dtype: int64"
      ]
     },
     "execution_count": 34,
     "metadata": {},
     "output_type": "execute_result"
    }
   ],
   "source": [
    "vas['Atendimento'].value_counts()"
   ]
  },
  {
   "cell_type": "code",
   "execution_count": 35,
   "metadata": {},
   "outputs": [
    {
     "data": {
      "text/html": [
       "<div>\n",
       "<style scoped>\n",
       "    .dataframe tbody tr th:only-of-type {\n",
       "        vertical-align: middle;\n",
       "    }\n",
       "\n",
       "    .dataframe tbody tr th {\n",
       "        vertical-align: top;\n",
       "    }\n",
       "\n",
       "    .dataframe thead th {\n",
       "        text-align: right;\n",
       "    }\n",
       "</style>\n",
       "<table border=\"1\" class=\"dataframe\">\n",
       "  <thead>\n",
       "    <tr style=\"text-align: right;\">\n",
       "      <th></th>\n",
       "      <th>Hospital</th>\n",
       "      <th>Municipio</th>\n",
       "      <th>Complexidade</th>\n",
       "      <th>Atendimento</th>\n",
       "      <th>SubGrupo Proced</th>\n",
       "      <th>Procedimento</th>\n",
       "    </tr>\n",
       "  </thead>\n",
       "  <tbody>\n",
       "    <tr>\n",
       "      <th>4329</th>\n",
       "      <td>0010480 HOSPITAL REGIONAL DE CEILANDIA</td>\n",
       "      <td>CEILANDIA, DF, BR</td>\n",
       "      <td>Média complexidade</td>\n",
       "      <td>Eletivo</td>\n",
       "      <td>Sub Grupo: 09 - Cirurgia do aparelho geniturin...</td>\n",
       "      <td>VASECTOMIA</td>\n",
       "    </tr>\n",
       "    <tr>\n",
       "      <th>4857</th>\n",
       "      <td>0010480 HOSPITAL REGIONAL DE CEILANDIA</td>\n",
       "      <td>CEILANDIA, DF, BR</td>\n",
       "      <td>Média complexidade</td>\n",
       "      <td>Eletivo</td>\n",
       "      <td>Sub Grupo: 09 - Cirurgia do aparelho geniturin...</td>\n",
       "      <td>VASECTOMIA</td>\n",
       "    </tr>\n",
       "    <tr>\n",
       "      <th>4858</th>\n",
       "      <td>0010480 HOSPITAL REGIONAL DE CEILANDIA</td>\n",
       "      <td>CEILANDIA, DF, BR</td>\n",
       "      <td>Média complexidade</td>\n",
       "      <td>Eletivo</td>\n",
       "      <td>Sub Grupo: 09 - Cirurgia do aparelho geniturin...</td>\n",
       "      <td>VASECTOMIA</td>\n",
       "    </tr>\n",
       "  </tbody>\n",
       "</table>\n",
       "</div>"
      ],
      "text/plain": [
       "                                    Hospital           Municipio  \\\n",
       "4329  0010480 HOSPITAL REGIONAL DE CEILANDIA  CEILANDIA, DF, BR    \n",
       "4857  0010480 HOSPITAL REGIONAL DE CEILANDIA  CEILANDIA, DF, BR    \n",
       "4858  0010480 HOSPITAL REGIONAL DE CEILANDIA  CEILANDIA, DF, BR    \n",
       "\n",
       "            Complexidade Atendimento  \\\n",
       "4329  Média complexidade     Eletivo   \n",
       "4857  Média complexidade     Eletivo   \n",
       "4858  Média complexidade     Eletivo   \n",
       "\n",
       "                                        SubGrupo Proced Procedimento  \n",
       "4329  Sub Grupo: 09 - Cirurgia do aparelho geniturin...   VASECTOMIA  \n",
       "4857  Sub Grupo: 09 - Cirurgia do aparelho geniturin...   VASECTOMIA  \n",
       "4858  Sub Grupo: 09 - Cirurgia do aparelho geniturin...   VASECTOMIA  "
      ]
     },
     "execution_count": 35,
     "metadata": {},
     "output_type": "execute_result"
    }
   ],
   "source": [
    "vas.tail(3)"
   ]
  },
  {
   "cell_type": "code",
   "execution_count": 38,
   "metadata": {},
   "outputs": [
    {
     "data": {
      "text/html": [
       "<div>\n",
       "<style scoped>\n",
       "    .dataframe tbody tr th:only-of-type {\n",
       "        vertical-align: middle;\n",
       "    }\n",
       "\n",
       "    .dataframe tbody tr th {\n",
       "        vertical-align: top;\n",
       "    }\n",
       "\n",
       "    .dataframe thead th {\n",
       "        text-align: right;\n",
       "    }\n",
       "</style>\n",
       "<table border=\"1\" class=\"dataframe\">\n",
       "  <thead>\n",
       "    <tr style=\"text-align: right;\">\n",
       "      <th></th>\n",
       "      <th>Hospital</th>\n",
       "      <th>Municipio</th>\n",
       "      <th>Complexidade</th>\n",
       "      <th>Atendimento</th>\n",
       "      <th>SubGrupo Proced</th>\n",
       "      <th>Procedimento</th>\n",
       "    </tr>\n",
       "  </thead>\n",
       "  <tbody>\n",
       "    <tr>\n",
       "      <th>647</th>\n",
       "      <td>0010480 HOSPITAL REGIONAL DE CEILANDIA</td>\n",
       "      <td>CEILANDIA, DF, BR</td>\n",
       "      <td>Média complexidade</td>\n",
       "      <td>Eletivo</td>\n",
       "      <td>Sub Grupo: 09 - Cirurgia do aparelho geniturin...</td>\n",
       "      <td>VASECTOMIA</td>\n",
       "    </tr>\n",
       "    <tr>\n",
       "      <th>948</th>\n",
       "      <td>2645157 HRPA</td>\n",
       "      <td>PARANOA, DF, BR</td>\n",
       "      <td>Média complexidade</td>\n",
       "      <td>Urgência</td>\n",
       "      <td>Sub Grupo: 09 - Cirurgia do aparelho geniturin...</td>\n",
       "      <td>VASECTOMIA</td>\n",
       "    </tr>\n",
       "    <tr>\n",
       "      <th>1415</th>\n",
       "      <td>2645157 HRPA</td>\n",
       "      <td>PARANOA, DF, BR</td>\n",
       "      <td>Média complexidade</td>\n",
       "      <td>Urgência</td>\n",
       "      <td>Sub Grupo: 09 - Cirurgia do aparelho geniturin...</td>\n",
       "      <td>VASECTOMIA</td>\n",
       "    </tr>\n",
       "  </tbody>\n",
       "</table>\n",
       "</div>"
      ],
      "text/plain": [
       "                                    Hospital           Municipio  \\\n",
       "647   0010480 HOSPITAL REGIONAL DE CEILANDIA  CEILANDIA, DF, BR    \n",
       "948                             2645157 HRPA    PARANOA, DF, BR    \n",
       "1415                            2645157 HRPA    PARANOA, DF, BR    \n",
       "\n",
       "            Complexidade Atendimento  \\\n",
       "647   Média complexidade     Eletivo   \n",
       "948   Média complexidade    Urgência   \n",
       "1415  Média complexidade    Urgência   \n",
       "\n",
       "                                        SubGrupo Proced Procedimento  \n",
       "647   Sub Grupo: 09 - Cirurgia do aparelho geniturin...   VASECTOMIA  \n",
       "948   Sub Grupo: 09 - Cirurgia do aparelho geniturin...   VASECTOMIA  \n",
       "1415  Sub Grupo: 09 - Cirurgia do aparelho geniturin...   VASECTOMIA  "
      ]
     },
     "execution_count": 38,
     "metadata": {},
     "output_type": "execute_result"
    }
   ],
   "source": [
    "vas.sample(3)"
   ]
  },
  {
   "cell_type": "code",
   "execution_count": 39,
   "metadata": {},
   "outputs": [],
   "source": [
    "# Como pegar uma palavra chave dentro de uma coluna \n",
    "#novoDF = df[df['coluna'].str.contains('Palavra chave')]\n",
    "vas2 = md_com[md_com['Procedimento'].str.contains('VASECTOMIA')]"
   ]
  },
  {
   "cell_type": "code",
   "execution_count": 41,
   "metadata": {},
   "outputs": [
    {
     "name": "stdout",
     "output_type": "stream",
     "text": [
      "<class 'pandas.core.frame.DataFrame'>\n",
      "Int64Index: 42 entries, 135 to 4858\n",
      "Data columns (total 6 columns):\n",
      " #   Column           Non-Null Count  Dtype \n",
      "---  ------           --------------  ----- \n",
      " 0   Hospital         42 non-null     object\n",
      " 1   Municipio        42 non-null     object\n",
      " 2   Complexidade     42 non-null     object\n",
      " 3   Atendimento      42 non-null     object\n",
      " 4   SubGrupo Proced  42 non-null     object\n",
      " 5   Procedimento     42 non-null     object\n",
      "dtypes: object(6)\n",
      "memory usage: 2.3+ KB\n"
     ]
    }
   ],
   "source": [
    "vas2.info()"
   ]
  },
  {
   "cell_type": "code",
   "execution_count": 42,
   "metadata": {},
   "outputs": [
    {
     "data": {
      "text/html": [
       "<div>\n",
       "<style scoped>\n",
       "    .dataframe tbody tr th:only-of-type {\n",
       "        vertical-align: middle;\n",
       "    }\n",
       "\n",
       "    .dataframe tbody tr th {\n",
       "        vertical-align: top;\n",
       "    }\n",
       "\n",
       "    .dataframe thead th {\n",
       "        text-align: right;\n",
       "    }\n",
       "</style>\n",
       "<table border=\"1\" class=\"dataframe\">\n",
       "  <thead>\n",
       "    <tr style=\"text-align: right;\">\n",
       "      <th></th>\n",
       "      <th>Hospital</th>\n",
       "      <th>Municipio</th>\n",
       "      <th>Complexidade</th>\n",
       "      <th>Atendimento</th>\n",
       "      <th>SubGrupo Proced</th>\n",
       "      <th>Procedimento</th>\n",
       "    </tr>\n",
       "  </thead>\n",
       "  <tbody>\n",
       "    <tr>\n",
       "      <th>135</th>\n",
       "      <td>0010480 HOSPITAL REGIONAL DE CEILANDIA</td>\n",
       "      <td>CEILANDIA, DF, BR</td>\n",
       "      <td>Média complexidade</td>\n",
       "      <td>Eletivo</td>\n",
       "      <td>Sub Grupo: 09 - Cirurgia do aparelho geniturin...</td>\n",
       "      <td>VASECTOMIA</td>\n",
       "    </tr>\n",
       "    <tr>\n",
       "      <th>136</th>\n",
       "      <td>0010480 HOSPITAL REGIONAL DE CEILANDIA</td>\n",
       "      <td>CEILANDIA, DF, BR</td>\n",
       "      <td>Média complexidade</td>\n",
       "      <td>Eletivo</td>\n",
       "      <td>Sub Grupo: 09 - Cirurgia do aparelho geniturin...</td>\n",
       "      <td>VASECTOMIA</td>\n",
       "    </tr>\n",
       "  </tbody>\n",
       "</table>\n",
       "</div>"
      ],
      "text/plain": [
       "                                   Hospital           Municipio  \\\n",
       "135  0010480 HOSPITAL REGIONAL DE CEILANDIA  CEILANDIA, DF, BR    \n",
       "136  0010480 HOSPITAL REGIONAL DE CEILANDIA  CEILANDIA, DF, BR    \n",
       "\n",
       "           Complexidade Atendimento  \\\n",
       "135  Média complexidade     Eletivo   \n",
       "136  Média complexidade     Eletivo   \n",
       "\n",
       "                                       SubGrupo Proced Procedimento  \n",
       "135  Sub Grupo: 09 - Cirurgia do aparelho geniturin...   VASECTOMIA  \n",
       "136  Sub Grupo: 09 - Cirurgia do aparelho geniturin...   VASECTOMIA  "
      ]
     },
     "execution_count": 42,
     "metadata": {},
     "output_type": "execute_result"
    }
   ],
   "source": [
    "vas2.head(2)"
   ]
  },
  {
   "cell_type": "code",
   "execution_count": 43,
   "metadata": {},
   "outputs": [
    {
     "data": {
      "text/plain": [
       "Hospital           42\n",
       "Municipio          42\n",
       "Complexidade       42\n",
       "Atendimento        42\n",
       "SubGrupo Proced    42\n",
       "Procedimento       42\n",
       "dtype: int64"
      ]
     },
     "execution_count": 43,
     "metadata": {},
     "output_type": "execute_result"
    }
   ],
   "source": [
    "vas2.count()"
   ]
  },
  {
   "cell_type": "code",
   "execution_count": 44,
   "metadata": {},
   "outputs": [],
   "source": [
    "df_par_ces = df2[df2['Procedimento'] == 'PARTO CESARIANO']"
   ]
  },
  {
   "cell_type": "code",
   "execution_count": 49,
   "metadata": {},
   "outputs": [
    {
     "name": "stdout",
     "output_type": "stream",
     "text": [
      "<class 'pandas.core.frame.DataFrame'>\n",
      "Int64Index: 1060 entries, 130 to 4850\n",
      "Data columns (total 6 columns):\n",
      " #   Column           Non-Null Count  Dtype \n",
      "---  ------           --------------  ----- \n",
      " 0   Hospital         1060 non-null   object\n",
      " 1   Municipio        1060 non-null   object\n",
      " 2   Complexidade     1060 non-null   object\n",
      " 3   Atendimento      1060 non-null   object\n",
      " 4   SubGrupo Proced  1060 non-null   object\n",
      " 5   Procedimento     1060 non-null   object\n",
      "dtypes: object(6)\n",
      "memory usage: 58.0+ KB\n"
     ]
    }
   ],
   "source": [
    "df_par_ces.info()"
   ]
  },
  {
   "cell_type": "code",
   "execution_count": 54,
   "metadata": {},
   "outputs": [],
   "source": [
    "df_hosp = df_par_ces[df_par_ces['Hospital'] == \"0010480 HOSPITAL REGIONAL DE CEILANDIA\"]"
   ]
  },
  {
   "cell_type": "code",
   "execution_count": 55,
   "metadata": {},
   "outputs": [
    {
     "data": {
      "text/html": [
       "<div>\n",
       "<style scoped>\n",
       "    .dataframe tbody tr th:only-of-type {\n",
       "        vertical-align: middle;\n",
       "    }\n",
       "\n",
       "    .dataframe tbody tr th {\n",
       "        vertical-align: top;\n",
       "    }\n",
       "\n",
       "    .dataframe thead th {\n",
       "        text-align: right;\n",
       "    }\n",
       "</style>\n",
       "<table border=\"1\" class=\"dataframe\">\n",
       "  <thead>\n",
       "    <tr style=\"text-align: right;\">\n",
       "      <th></th>\n",
       "      <th>Hospital</th>\n",
       "      <th>Municipio</th>\n",
       "      <th>Complexidade</th>\n",
       "      <th>Atendimento</th>\n",
       "      <th>SubGrupo Proced</th>\n",
       "      <th>Procedimento</th>\n",
       "    </tr>\n",
       "  </thead>\n",
       "  <tbody>\n",
       "    <tr>\n",
       "      <th>2719</th>\n",
       "      <td>0010480 HOSPITAL REGIONAL DE CEILANDIA</td>\n",
       "      <td>CEILANDIA, DF, BR</td>\n",
       "      <td>Média complexidade</td>\n",
       "      <td>Eletivo</td>\n",
       "      <td>Sub Grupo: 11 - Cirurgia obstétrica</td>\n",
       "      <td>PARTO CESARIANO</td>\n",
       "    </tr>\n",
       "    <tr>\n",
       "      <th>4206</th>\n",
       "      <td>0010480 HOSPITAL REGIONAL DE CEILANDIA</td>\n",
       "      <td>CEILANDIA, DF, BR</td>\n",
       "      <td>Média complexidade</td>\n",
       "      <td>Eletivo</td>\n",
       "      <td>Sub Grupo: 11 - Cirurgia obstétrica</td>\n",
       "      <td>PARTO CESARIANO</td>\n",
       "    </tr>\n",
       "    <tr>\n",
       "      <th>4207</th>\n",
       "      <td>0010480 HOSPITAL REGIONAL DE CEILANDIA</td>\n",
       "      <td>CEILANDIA, DF, BR</td>\n",
       "      <td>Média complexidade</td>\n",
       "      <td>Urgência</td>\n",
       "      <td>Sub Grupo: 11 - Cirurgia obstétrica</td>\n",
       "      <td>PARTO CESARIANO</td>\n",
       "    </tr>\n",
       "    <tr>\n",
       "      <th>4209</th>\n",
       "      <td>0010480 HOSPITAL REGIONAL DE CEILANDIA</td>\n",
       "      <td>CEILANDIA, DF, BR</td>\n",
       "      <td>Média complexidade</td>\n",
       "      <td>Urgência</td>\n",
       "      <td>Sub Grupo: 11 - Cirurgia obstétrica</td>\n",
       "      <td>PARTO CESARIANO</td>\n",
       "    </tr>\n",
       "    <tr>\n",
       "      <th>4210</th>\n",
       "      <td>0010480 HOSPITAL REGIONAL DE CEILANDIA</td>\n",
       "      <td>CEILANDIA, DF, BR</td>\n",
       "      <td>Média complexidade</td>\n",
       "      <td>Urgência</td>\n",
       "      <td>Sub Grupo: 11 - Cirurgia obstétrica</td>\n",
       "      <td>PARTO CESARIANO</td>\n",
       "    </tr>\n",
       "    <tr>\n",
       "      <th>...</th>\n",
       "      <td>...</td>\n",
       "      <td>...</td>\n",
       "      <td>...</td>\n",
       "      <td>...</td>\n",
       "      <td>...</td>\n",
       "      <td>...</td>\n",
       "    </tr>\n",
       "    <tr>\n",
       "      <th>4846</th>\n",
       "      <td>0010480 HOSPITAL REGIONAL DE CEILANDIA</td>\n",
       "      <td>CEILANDIA, DF, BR</td>\n",
       "      <td>Média complexidade</td>\n",
       "      <td>Urgência</td>\n",
       "      <td>Sub Grupo: 11 - Cirurgia obstétrica</td>\n",
       "      <td>PARTO CESARIANO</td>\n",
       "    </tr>\n",
       "    <tr>\n",
       "      <th>4847</th>\n",
       "      <td>0010480 HOSPITAL REGIONAL DE CEILANDIA</td>\n",
       "      <td>CEILANDIA, DF, BR</td>\n",
       "      <td>Média complexidade</td>\n",
       "      <td>Urgência</td>\n",
       "      <td>Sub Grupo: 11 - Cirurgia obstétrica</td>\n",
       "      <td>PARTO CESARIANO</td>\n",
       "    </tr>\n",
       "    <tr>\n",
       "      <th>4848</th>\n",
       "      <td>0010480 HOSPITAL REGIONAL DE CEILANDIA</td>\n",
       "      <td>CEILANDIA, DF, BR</td>\n",
       "      <td>Média complexidade</td>\n",
       "      <td>Urgência</td>\n",
       "      <td>Sub Grupo: 11 - Cirurgia obstétrica</td>\n",
       "      <td>PARTO CESARIANO</td>\n",
       "    </tr>\n",
       "    <tr>\n",
       "      <th>4849</th>\n",
       "      <td>0010480 HOSPITAL REGIONAL DE CEILANDIA</td>\n",
       "      <td>CEILANDIA, DF, BR</td>\n",
       "      <td>Média complexidade</td>\n",
       "      <td>Urgência</td>\n",
       "      <td>Sub Grupo: 11 - Cirurgia obstétrica</td>\n",
       "      <td>PARTO CESARIANO</td>\n",
       "    </tr>\n",
       "    <tr>\n",
       "      <th>4850</th>\n",
       "      <td>0010480 HOSPITAL REGIONAL DE CEILANDIA</td>\n",
       "      <td>CEILANDIA, DF, BR</td>\n",
       "      <td>Média complexidade</td>\n",
       "      <td>Urgência</td>\n",
       "      <td>Sub Grupo: 11 - Cirurgia obstétrica</td>\n",
       "      <td>PARTO CESARIANO</td>\n",
       "    </tr>\n",
       "  </tbody>\n",
       "</table>\n",
       "<p>165 rows × 6 columns</p>\n",
       "</div>"
      ],
      "text/plain": [
       "                                    Hospital           Municipio  \\\n",
       "2719  0010480 HOSPITAL REGIONAL DE CEILANDIA  CEILANDIA, DF, BR    \n",
       "4206  0010480 HOSPITAL REGIONAL DE CEILANDIA  CEILANDIA, DF, BR    \n",
       "4207  0010480 HOSPITAL REGIONAL DE CEILANDIA  CEILANDIA, DF, BR    \n",
       "4209  0010480 HOSPITAL REGIONAL DE CEILANDIA  CEILANDIA, DF, BR    \n",
       "4210  0010480 HOSPITAL REGIONAL DE CEILANDIA  CEILANDIA, DF, BR    \n",
       "...                                      ...                 ...   \n",
       "4846  0010480 HOSPITAL REGIONAL DE CEILANDIA  CEILANDIA, DF, BR    \n",
       "4847  0010480 HOSPITAL REGIONAL DE CEILANDIA  CEILANDIA, DF, BR    \n",
       "4848  0010480 HOSPITAL REGIONAL DE CEILANDIA  CEILANDIA, DF, BR    \n",
       "4849  0010480 HOSPITAL REGIONAL DE CEILANDIA  CEILANDIA, DF, BR    \n",
       "4850  0010480 HOSPITAL REGIONAL DE CEILANDIA  CEILANDIA, DF, BR    \n",
       "\n",
       "            Complexidade Atendimento                      SubGrupo Proced  \\\n",
       "2719  Média complexidade     Eletivo  Sub Grupo: 11 - Cirurgia obstétrica   \n",
       "4206  Média complexidade     Eletivo  Sub Grupo: 11 - Cirurgia obstétrica   \n",
       "4207  Média complexidade    Urgência  Sub Grupo: 11 - Cirurgia obstétrica   \n",
       "4209  Média complexidade    Urgência  Sub Grupo: 11 - Cirurgia obstétrica   \n",
       "4210  Média complexidade    Urgência  Sub Grupo: 11 - Cirurgia obstétrica   \n",
       "...                  ...         ...                                  ...   \n",
       "4846  Média complexidade    Urgência  Sub Grupo: 11 - Cirurgia obstétrica   \n",
       "4847  Média complexidade    Urgência  Sub Grupo: 11 - Cirurgia obstétrica   \n",
       "4848  Média complexidade    Urgência  Sub Grupo: 11 - Cirurgia obstétrica   \n",
       "4849  Média complexidade    Urgência  Sub Grupo: 11 - Cirurgia obstétrica   \n",
       "4850  Média complexidade    Urgência  Sub Grupo: 11 - Cirurgia obstétrica   \n",
       "\n",
       "         Procedimento  \n",
       "2719  PARTO CESARIANO  \n",
       "4206  PARTO CESARIANO  \n",
       "4207  PARTO CESARIANO  \n",
       "4209  PARTO CESARIANO  \n",
       "4210  PARTO CESARIANO  \n",
       "...               ...  \n",
       "4846  PARTO CESARIANO  \n",
       "4847  PARTO CESARIANO  \n",
       "4848  PARTO CESARIANO  \n",
       "4849  PARTO CESARIANO  \n",
       "4850  PARTO CESARIANO  \n",
       "\n",
       "[165 rows x 6 columns]"
      ]
     },
     "execution_count": 55,
     "metadata": {},
     "output_type": "execute_result"
    }
   ],
   "source": [
    "df_hosp"
   ]
  },
  {
   "cell_type": "code",
   "execution_count": 63,
   "metadata": {},
   "outputs": [
    {
     "data": {
      "text/plain": [
       "<AxesSubplot:>"
      ]
     },
     "execution_count": 63,
     "metadata": {},
     "output_type": "execute_result"
    },
    {
     "data": {
      "image/png": "[encoded data removed]",
      "text/plain": [
       "<Figure size 432x288 with 1 Axes>"
      ]
     },
     "metadata": {
      "needs_background": "light"
     },
     "output_type": "display_data"
    }
   ],
   "source": [
    "# Plotar grafico de barras na horizontal\n",
    "df_par_ces['Hospital'].value_counts().plot.barh()"
   ]
  },
  {
   "cell_type": "code",
   "execution_count": 65,
   "metadata": {},
   "outputs": [
    {
     "data": {
      "text/plain": [
       "<AxesSubplot:title={'center':'Partos Cesarianos por Hospital'}>"
      ]
     },
     "execution_count": 65,
     "metadata": {},
     "output_type": "execute_result"
    },
    {
     "data": {
      "image/png": "[encoded data removed]",
      "text/plain": [
       "<Figure size 432x288 with 1 Axes>"
      ]
     },
     "metadata": {
      "needs_background": "light"
     },
     "output_type": "display_data"
    }
   ],
   "source": [
    "# Melhorar o gráfico, invertendo a ordem e colocando título\n",
    "df_par_ces['Hospital'].value_counts(ascending=True,).plot.barh(title='Partos Cesarianos por Hospital')"
   ]
  },
  {
   "cell_type": "code",
   "execution_count": null,
   "metadata": {},
   "outputs": [],
   "source": []
  }
 ],
 "metadata": {
  "kernelspec": {
   "display_name": "Python 3",
   "language": "python",
   "name": "python3"
  },
  "language_info": {
   "codemirror_mode": {
    "name": "ipython",
    "version": 3
   },
   "file_extension": ".py",
   "mimetype": "text/x-python",
   "name": "python",
   "nbconvert_exporter": "python",
   "pygments_lexer": "ipython3",
   "version": "3.8.5"
  }
 },
 "nbformat": 4,
 "nbformat_minor": 4
}
