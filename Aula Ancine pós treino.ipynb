{
 "cells": [
  {
   "cell_type": "code",
   "execution_count": 1,
   "metadata": {},
   "outputs": [],
   "source": [
    "import pandas as pd\n",
    "%matplotlib inline"
   ]
  },
  {
   "cell_type": "code",
   "execution_count": 2,
   "metadata": {},
   "outputs": [],
   "source": [
    "df = pd.read_excel('2120_0.xlsx', skiprows=2, skipfooter=16)"
   ]
  },
  {
   "cell_type": "code",
   "execution_count": 3,
   "metadata": {},
   "outputs": [
    {
     "data": {
      "text/plain": [
       "Ano de exibição                      int64\n",
       "Título da obra                      object\n",
       "Gênero                              object\n",
       "País(es) produtor(es) da obra       object\n",
       "Nacionalidade da obra               object\n",
       "Data de lançamento                  object\n",
       "Distribuidora                       object\n",
       "Origem da empresa distribuidora     object\n",
       "Público no ano de exibição           int64\n",
       "Renda (R$) no ano de exibição      float64\n",
       "dtype: object"
      ]
     },
     "execution_count": 3,
     "metadata": {},
     "output_type": "execute_result"
    }
   ],
   "source": [
    "df.dtypes"
   ]
  },
  {
   "cell_type": "code",
   "execution_count": 4,
   "metadata": {},
   "outputs": [],
   "source": [
    "# Modificando um tipo de coluna do formato texto para o formato de data\n",
    "# df['Data de lançamento'] = pd.to_datetime(df['Data de lançamento'])"
   ]
  },
  {
   "cell_type": "code",
   "execution_count": 5,
   "metadata": {},
   "outputs": [
    {
     "data": {
      "text/plain": [
       "Relançamento           175\n",
       "2012-12-21 00:00:00     33\n",
       "2015-12-03 00:00:00     33\n",
       "2013-11-29 00:00:00     29\n",
       "2012-11-02 00:00:00     27\n",
       "                      ... \n",
       "2018-04-05 00:00:00      1\n",
       "2015-04-21 00:00:00      1\n",
       "2010-02-06 00:00:00      1\n",
       "2014-11-24 00:00:00      1\n",
       "2005-01-14 00:00:00      1\n",
       "Name: Data de lançamento, Length: 759, dtype: int64"
      ]
     },
     "execution_count": 5,
     "metadata": {},
     "output_type": "execute_result"
    }
   ],
   "source": [
    "# Identificar o problema na coluna 'Data de lançamento'\n",
    "df['Data de lançamento'].value_counts()"
   ]
  },
  {
   "cell_type": "code",
   "execution_count": 6,
   "metadata": {},
   "outputs": [
    {
     "data": {
      "text/html": [
       "<div>\n",
       "<style scoped>\n",
       "    .dataframe tbody tr th:only-of-type {\n",
       "        vertical-align: middle;\n",
       "    }\n",
       "\n",
       "    .dataframe tbody tr th {\n",
       "        vertical-align: top;\n",
       "    }\n",
       "\n",
       "    .dataframe thead th {\n",
       "        text-align: right;\n",
       "    }\n",
       "</style>\n",
       "<table border=\"1\" class=\"dataframe\">\n",
       "  <thead>\n",
       "    <tr style=\"text-align: right;\">\n",
       "      <th></th>\n",
       "      <th>Ano de exibição</th>\n",
       "      <th>Título da obra</th>\n",
       "      <th>Gênero</th>\n",
       "      <th>País(es) produtor(es) da obra</th>\n",
       "      <th>Nacionalidade da obra</th>\n",
       "      <th>Data de lançamento</th>\n",
       "      <th>Distribuidora</th>\n",
       "      <th>Origem da empresa distribuidora</th>\n",
       "      <th>Público no ano de exibição</th>\n",
       "      <th>Renda (R$) no ano de exibição</th>\n",
       "    </tr>\n",
       "  </thead>\n",
       "  <tbody>\n",
       "    <tr>\n",
       "      <th>7</th>\n",
       "      <td>2017</td>\n",
       "      <td>8½</td>\n",
       "      <td>Ficção</td>\n",
       "      <td>França, Itália</td>\n",
       "      <td>Estrangeiros</td>\n",
       "      <td>Relançamento</td>\n",
       "      <td>F. J. Cines</td>\n",
       "      <td>Distribuição Nacional</td>\n",
       "      <td>29</td>\n",
       "      <td>196.00</td>\n",
       "    </tr>\n",
       "    <tr>\n",
       "      <th>11</th>\n",
       "      <td>2017</td>\n",
       "      <td>A bela da tarde</td>\n",
       "      <td>Ficção</td>\n",
       "      <td>França, Itália</td>\n",
       "      <td>Estrangeiros</td>\n",
       "      <td>Relançamento</td>\n",
       "      <td>Zeta Filmes</td>\n",
       "      <td>Distribuição Nacional</td>\n",
       "      <td>3011</td>\n",
       "      <td>42839.31</td>\n",
       "    </tr>\n",
       "    <tr>\n",
       "      <th>36</th>\n",
       "      <td>2017</td>\n",
       "      <td>A História sem Fim</td>\n",
       "      <td>Ficção</td>\n",
       "      <td>Alemanha, Estados Unidos</td>\n",
       "      <td>Estrangeiros</td>\n",
       "      <td>Relançamento</td>\n",
       "      <td>F. J. Cines</td>\n",
       "      <td>Distribuição Nacional</td>\n",
       "      <td>797</td>\n",
       "      <td>6969.00</td>\n",
       "    </tr>\n",
       "    <tr>\n",
       "      <th>53</th>\n",
       "      <td>2017</td>\n",
       "      <td>A primeira noite de um homem</td>\n",
       "      <td>Ficção</td>\n",
       "      <td>Estados Unidos</td>\n",
       "      <td>Estrangeiros</td>\n",
       "      <td>Relançamento</td>\n",
       "      <td>Zeta Filmes</td>\n",
       "      <td>Distribuição Nacional</td>\n",
       "      <td>12</td>\n",
       "      <td>96.00</td>\n",
       "    </tr>\n",
       "    <tr>\n",
       "      <th>128</th>\n",
       "      <td>2017</td>\n",
       "      <td>Ballet Bolshoi: A bela adormecida</td>\n",
       "      <td>Vídeomusical</td>\n",
       "      <td>Inglaterra</td>\n",
       "      <td>Estrangeiros</td>\n",
       "      <td>Relançamento</td>\n",
       "      <td>UCI</td>\n",
       "      <td>Distribuição Nacional</td>\n",
       "      <td>1504</td>\n",
       "      <td>41391.00</td>\n",
       "    </tr>\n",
       "  </tbody>\n",
       "</table>\n",
       "</div>"
      ],
      "text/plain": [
       "     Ano de exibição                     Título da obra        Gênero  \\\n",
       "7               2017                                 8½        Ficção   \n",
       "11              2017                    A bela da tarde        Ficção   \n",
       "36              2017                 A História sem Fim        Ficção   \n",
       "53              2017       A primeira noite de um homem        Ficção   \n",
       "128             2017  Ballet Bolshoi: A bela adormecida  Vídeomusical   \n",
       "\n",
       "    País(es) produtor(es) da obra Nacionalidade da obra Data de lançamento  \\\n",
       "7                  França, Itália          Estrangeiros       Relançamento   \n",
       "11                 França, Itália          Estrangeiros       Relançamento   \n",
       "36       Alemanha, Estados Unidos          Estrangeiros       Relançamento   \n",
       "53                 Estados Unidos          Estrangeiros       Relançamento   \n",
       "128                    Inglaterra          Estrangeiros       Relançamento   \n",
       "\n",
       "    Distribuidora Origem da empresa distribuidora  Público no ano de exibição  \\\n",
       "7     F. J. Cines           Distribuição Nacional                          29   \n",
       "11    Zeta Filmes           Distribuição Nacional                        3011   \n",
       "36    F. J. Cines           Distribuição Nacional                         797   \n",
       "53    Zeta Filmes           Distribuição Nacional                          12   \n",
       "128           UCI           Distribuição Nacional                        1504   \n",
       "\n",
       "     Renda (R$) no ano de exibição  \n",
       "7                           196.00  \n",
       "11                        42839.31  \n",
       "36                         6969.00  \n",
       "53                           96.00  \n",
       "128                       41391.00  "
      ]
     },
     "execution_count": 6,
     "metadata": {},
     "output_type": "execute_result"
    }
   ],
   "source": [
    "# Exibir filmes com data relançamento\n",
    "df[df['Data de lançamento'] == 'Relançamento'].head(5)"
   ]
  },
  {
   "cell_type": "markdown",
   "metadata": {},
   "source": [
    "# Decisão sobre os dados incorretos/faltantes/divergentes"
   ]
  },
  {
   "cell_type": "code",
   "execution_count": 7,
   "metadata": {},
   "outputs": [],
   "source": [
    "# Neste caso específico, iremos descartar esses dados\n",
    "n_df = df[df['Data de lançamento'] != 'Relançamento'].copy()"
   ]
  },
  {
   "cell_type": "code",
   "execution_count": 8,
   "metadata": {},
   "outputs": [
    {
     "data": {
      "text/plain": [
       "2015-12-03    33\n",
       "2012-12-21    33\n",
       "2013-11-29    29\n",
       "2012-11-02    27\n",
       "2015-11-12    25\n",
       "              ..\n",
       "2018-04-05     1\n",
       "2015-04-21     1\n",
       "2010-02-06     1\n",
       "2014-11-24     1\n",
       "2005-01-14     1\n",
       "Name: Data de lançamento, Length: 758, dtype: int64"
      ]
     },
     "execution_count": 8,
     "metadata": {},
     "output_type": "execute_result"
    }
   ],
   "source": [
    "n_df['Data de lançamento'].value_counts()"
   ]
  },
  {
   "cell_type": "code",
   "execution_count": 9,
   "metadata": {},
   "outputs": [],
   "source": [
    "n_df['Data de lançamento'] = pd.to_datetime(n_df['Data de lançamento'])"
   ]
  },
  {
   "cell_type": "code",
   "execution_count": 10,
   "metadata": {},
   "outputs": [
    {
     "data": {
      "text/plain": [
       "Ano de exibição                             int64\n",
       "Título da obra                             object\n",
       "Gênero                                     object\n",
       "País(es) produtor(es) da obra              object\n",
       "Nacionalidade da obra                      object\n",
       "Data de lançamento                 datetime64[ns]\n",
       "Distribuidora                              object\n",
       "Origem da empresa distribuidora            object\n",
       "Público no ano de exibição                  int64\n",
       "Renda (R$) no ano de exibição             float64\n",
       "dtype: object"
      ]
     },
     "execution_count": 10,
     "metadata": {},
     "output_type": "execute_result"
    }
   ],
   "source": [
    "n_df.dtypes"
   ]
  },
  {
   "cell_type": "code",
   "execution_count": 11,
   "metadata": {},
   "outputs": [
    {
     "data": {
      "text/html": [
       "<div>\n",
       "<style scoped>\n",
       "    .dataframe tbody tr th:only-of-type {\n",
       "        vertical-align: middle;\n",
       "    }\n",
       "\n",
       "    .dataframe tbody tr th {\n",
       "        vertical-align: top;\n",
       "    }\n",
       "\n",
       "    .dataframe thead th {\n",
       "        text-align: right;\n",
       "    }\n",
       "</style>\n",
       "<table border=\"1\" class=\"dataframe\">\n",
       "  <thead>\n",
       "    <tr style=\"text-align: right;\">\n",
       "      <th></th>\n",
       "      <th>Ano de exibição</th>\n",
       "      <th>Título da obra</th>\n",
       "      <th>Gênero</th>\n",
       "      <th>País(es) produtor(es) da obra</th>\n",
       "      <th>Nacionalidade da obra</th>\n",
       "      <th>Data de lançamento</th>\n",
       "      <th>Distribuidora</th>\n",
       "      <th>Origem da empresa distribuidora</th>\n",
       "      <th>Público no ano de exibição</th>\n",
       "      <th>Renda (R$) no ano de exibição</th>\n",
       "    </tr>\n",
       "  </thead>\n",
       "  <tbody>\n",
       "    <tr>\n",
       "      <th>0</th>\n",
       "      <td>2017</td>\n",
       "      <td>#Screamers</td>\n",
       "      <td>Ficção</td>\n",
       "      <td>Estados Unidos</td>\n",
       "      <td>Estrangeiros</td>\n",
       "      <td>2017-11-30</td>\n",
       "      <td>Cineart Filmes</td>\n",
       "      <td>Distribuição Nacional</td>\n",
       "      <td>714</td>\n",
       "      <td>9437.45</td>\n",
       "    </tr>\n",
       "    <tr>\n",
       "      <th>1</th>\n",
       "      <td>2017</td>\n",
       "      <td>10 Centavos para o Número da Besta</td>\n",
       "      <td>Documentário</td>\n",
       "      <td>Brasil</td>\n",
       "      <td>Brasileiros</td>\n",
       "      <td>2017-11-28</td>\n",
       "      <td>Ponto de Equilíbrio</td>\n",
       "      <td>Distribuição Nacional</td>\n",
       "      <td>7</td>\n",
       "      <td>63.00</td>\n",
       "    </tr>\n",
       "  </tbody>\n",
       "</table>\n",
       "</div>"
      ],
      "text/plain": [
       "   Ano de exibição                      Título da obra        Gênero  \\\n",
       "0             2017                          #Screamers        Ficção   \n",
       "1             2017  10 Centavos para o Número da Besta  Documentário   \n",
       "\n",
       "  País(es) produtor(es) da obra Nacionalidade da obra Data de lançamento  \\\n",
       "0                Estados Unidos          Estrangeiros         2017-11-30   \n",
       "1                        Brasil           Brasileiros         2017-11-28   \n",
       "\n",
       "         Distribuidora Origem da empresa distribuidora  \\\n",
       "0       Cineart Filmes           Distribuição Nacional   \n",
       "1  Ponto de Equilíbrio           Distribuição Nacional   \n",
       "\n",
       "   Público no ano de exibição  Renda (R$) no ano de exibição  \n",
       "0                         714                        9437.45  \n",
       "1                           7                          63.00  "
      ]
     },
     "execution_count": 11,
     "metadata": {},
     "output_type": "execute_result"
    }
   ],
   "source": [
    "n_df.head(2)"
   ]
  },
  {
   "cell_type": "code",
   "execution_count": 12,
   "metadata": {
    "scrolled": true
   },
   "outputs": [
    {
     "data": {
      "text/plain": [
       "75     2018-12-28\n",
       "677    2018-11-29\n",
       "133    2018-04-12\n",
       "250    2018-04-05\n",
       "700    2018-03-29\n",
       "          ...    \n",
       "5252   2000-01-01\n",
       "5639   1999-10-08\n",
       "4881   1999-01-01\n",
       "4365   1999-01-01\n",
       "5246   1998-10-30\n",
       "Name: Data de lançamento, Length: 5516, dtype: datetime64[ns]"
      ]
     },
     "execution_count": 12,
     "metadata": {},
     "output_type": "execute_result"
    }
   ],
   "source": [
    "n_df['Data de lançamento'].sort_values(ascending=False)"
   ]
  },
  {
   "cell_type": "code",
   "execution_count": 13,
   "metadata": {},
   "outputs": [],
   "source": [
    "n_df['Mês'] = n_df['Data de lançamento'].dt.month"
   ]
  },
  {
   "cell_type": "code",
   "execution_count": 14,
   "metadata": {},
   "outputs": [
    {
     "data": {
      "text/html": [
       "<div>\n",
       "<style scoped>\n",
       "    .dataframe tbody tr th:only-of-type {\n",
       "        vertical-align: middle;\n",
       "    }\n",
       "\n",
       "    .dataframe tbody tr th {\n",
       "        vertical-align: top;\n",
       "    }\n",
       "\n",
       "    .dataframe thead th {\n",
       "        text-align: right;\n",
       "    }\n",
       "</style>\n",
       "<table border=\"1\" class=\"dataframe\">\n",
       "  <thead>\n",
       "    <tr style=\"text-align: right;\">\n",
       "      <th></th>\n",
       "      <th>Ano de exibição</th>\n",
       "      <th>Título da obra</th>\n",
       "      <th>Gênero</th>\n",
       "      <th>País(es) produtor(es) da obra</th>\n",
       "      <th>Nacionalidade da obra</th>\n",
       "      <th>Data de lançamento</th>\n",
       "      <th>Distribuidora</th>\n",
       "      <th>Origem da empresa distribuidora</th>\n",
       "      <th>Público no ano de exibição</th>\n",
       "      <th>Renda (R$) no ano de exibição</th>\n",
       "      <th>Mês</th>\n",
       "    </tr>\n",
       "  </thead>\n",
       "  <tbody>\n",
       "    <tr>\n",
       "      <th>0</th>\n",
       "      <td>2017</td>\n",
       "      <td>#Screamers</td>\n",
       "      <td>Ficção</td>\n",
       "      <td>Estados Unidos</td>\n",
       "      <td>Estrangeiros</td>\n",
       "      <td>2017-11-30</td>\n",
       "      <td>Cineart Filmes</td>\n",
       "      <td>Distribuição Nacional</td>\n",
       "      <td>714</td>\n",
       "      <td>9437.45</td>\n",
       "      <td>11</td>\n",
       "    </tr>\n",
       "    <tr>\n",
       "      <th>1</th>\n",
       "      <td>2017</td>\n",
       "      <td>10 Centavos para o Número da Besta</td>\n",
       "      <td>Documentário</td>\n",
       "      <td>Brasil</td>\n",
       "      <td>Brasileiros</td>\n",
       "      <td>2017-11-28</td>\n",
       "      <td>Ponto de Equilíbrio</td>\n",
       "      <td>Distribuição Nacional</td>\n",
       "      <td>7</td>\n",
       "      <td>63.00</td>\n",
       "      <td>11</td>\n",
       "    </tr>\n",
       "    <tr>\n",
       "      <th>2</th>\n",
       "      <td>2017</td>\n",
       "      <td>120 batimentos por minuto</td>\n",
       "      <td>Ficção</td>\n",
       "      <td>França</td>\n",
       "      <td>Estrangeiros</td>\n",
       "      <td>2018-01-04</td>\n",
       "      <td>Imovision</td>\n",
       "      <td>Distribuição Nacional</td>\n",
       "      <td>262</td>\n",
       "      <td>3791.63</td>\n",
       "      <td>1</td>\n",
       "    </tr>\n",
       "  </tbody>\n",
       "</table>\n",
       "</div>"
      ],
      "text/plain": [
       "   Ano de exibição                      Título da obra        Gênero  \\\n",
       "0             2017                          #Screamers        Ficção   \n",
       "1             2017  10 Centavos para o Número da Besta  Documentário   \n",
       "2             2017           120 batimentos por minuto        Ficção   \n",
       "\n",
       "  País(es) produtor(es) da obra Nacionalidade da obra Data de lançamento  \\\n",
       "0                Estados Unidos          Estrangeiros         2017-11-30   \n",
       "1                        Brasil           Brasileiros         2017-11-28   \n",
       "2                        França          Estrangeiros         2018-01-04   \n",
       "\n",
       "         Distribuidora Origem da empresa distribuidora  \\\n",
       "0       Cineart Filmes           Distribuição Nacional   \n",
       "1  Ponto de Equilíbrio           Distribuição Nacional   \n",
       "2           Imovision            Distribuição Nacional   \n",
       "\n",
       "   Público no ano de exibição  Renda (R$) no ano de exibição  Mês  \n",
       "0                         714                        9437.45   11  \n",
       "1                           7                          63.00   11  \n",
       "2                         262                        3791.63    1  "
      ]
     },
     "execution_count": 14,
     "metadata": {},
     "output_type": "execute_result"
    }
   ],
   "source": [
    "n_df.head(3)"
   ]
  },
  {
   "cell_type": "code",
   "execution_count": 15,
   "metadata": {},
   "outputs": [
    {
     "name": "stdout",
     "output_type": "stream",
     "text": [
      "<class 'pandas.core.frame.DataFrame'>\n",
      "Int64Index: 5516 entries, 0 to 5690\n",
      "Data columns (total 11 columns):\n",
      " #   Column                           Non-Null Count  Dtype         \n",
      "---  ------                           --------------  -----         \n",
      " 0   Ano de exibição                  5516 non-null   int64         \n",
      " 1   Título da obra                   5516 non-null   object        \n",
      " 2   Gênero                           5516 non-null   object        \n",
      " 3   País(es) produtor(es) da obra    5516 non-null   object        \n",
      " 4   Nacionalidade da obra            5516 non-null   object        \n",
      " 5   Data de lançamento               5516 non-null   datetime64[ns]\n",
      " 6   Distribuidora                    5516 non-null   object        \n",
      " 7   Origem da empresa distribuidora  5516 non-null   object        \n",
      " 8   Público no ano de exibição       5516 non-null   int64         \n",
      " 9   Renda (R$) no ano de exibição    5516 non-null   float64       \n",
      " 10  Mês                              5516 non-null   int64         \n",
      "dtypes: datetime64[ns](1), float64(1), int64(3), object(6)\n",
      "memory usage: 517.1+ KB\n"
     ]
    }
   ],
   "source": [
    "n_df.info()"
   ]
  },
  {
   "cell_type": "code",
   "execution_count": 16,
   "metadata": {},
   "outputs": [
    {
     "data": {
      "text/html": [
       "<div>\n",
       "<style scoped>\n",
       "    .dataframe tbody tr th:only-of-type {\n",
       "        vertical-align: middle;\n",
       "    }\n",
       "\n",
       "    .dataframe tbody tr th {\n",
       "        vertical-align: top;\n",
       "    }\n",
       "\n",
       "    .dataframe thead th {\n",
       "        text-align: right;\n",
       "    }\n",
       "</style>\n",
       "<table border=\"1\" class=\"dataframe\">\n",
       "  <thead>\n",
       "    <tr style=\"text-align: right;\">\n",
       "      <th></th>\n",
       "      <th>Ano de exibição</th>\n",
       "      <th>Título da obra</th>\n",
       "      <th>Gênero</th>\n",
       "      <th>País(es) produtor(es) da obra</th>\n",
       "      <th>Nacionalidade da obra</th>\n",
       "      <th>Data de lançamento</th>\n",
       "      <th>Distribuidora</th>\n",
       "      <th>Origem da empresa distribuidora</th>\n",
       "      <th>Público no ano de exibição</th>\n",
       "      <th>Renda (R$) no ano de exibição</th>\n",
       "      <th>Mês</th>\n",
       "    </tr>\n",
       "  </thead>\n",
       "  <tbody>\n",
       "    <tr>\n",
       "      <th>0</th>\n",
       "      <td>2017</td>\n",
       "      <td>#Screamers</td>\n",
       "      <td>Ficção</td>\n",
       "      <td>Estados Unidos</td>\n",
       "      <td>Estrangeiros</td>\n",
       "      <td>2017-11-30</td>\n",
       "      <td>Cineart Filmes</td>\n",
       "      <td>Distribuição Nacional</td>\n",
       "      <td>714</td>\n",
       "      <td>9437.45</td>\n",
       "      <td>11</td>\n",
       "    </tr>\n",
       "    <tr>\n",
       "      <th>1</th>\n",
       "      <td>2017</td>\n",
       "      <td>10 Centavos para o Número da Besta</td>\n",
       "      <td>Documentário</td>\n",
       "      <td>Brasil</td>\n",
       "      <td>Brasileiros</td>\n",
       "      <td>2017-11-28</td>\n",
       "      <td>Ponto de Equilíbrio</td>\n",
       "      <td>Distribuição Nacional</td>\n",
       "      <td>7</td>\n",
       "      <td>63.00</td>\n",
       "      <td>11</td>\n",
       "    </tr>\n",
       "    <tr>\n",
       "      <th>2</th>\n",
       "      <td>2017</td>\n",
       "      <td>120 batimentos por minuto</td>\n",
       "      <td>Ficção</td>\n",
       "      <td>França</td>\n",
       "      <td>Estrangeiros</td>\n",
       "      <td>2018-01-04</td>\n",
       "      <td>Imovision</td>\n",
       "      <td>Distribuição Nacional</td>\n",
       "      <td>262</td>\n",
       "      <td>3791.63</td>\n",
       "      <td>1</td>\n",
       "    </tr>\n",
       "  </tbody>\n",
       "</table>\n",
       "</div>"
      ],
      "text/plain": [
       "   Ano de exibição                      Título da obra        Gênero  \\\n",
       "0             2017                          #Screamers        Ficção   \n",
       "1             2017  10 Centavos para o Número da Besta  Documentário   \n",
       "2             2017           120 batimentos por minuto        Ficção   \n",
       "\n",
       "  País(es) produtor(es) da obra Nacionalidade da obra Data de lançamento  \\\n",
       "0                Estados Unidos          Estrangeiros         2017-11-30   \n",
       "1                        Brasil           Brasileiros         2017-11-28   \n",
       "2                        França          Estrangeiros         2018-01-04   \n",
       "\n",
       "         Distribuidora Origem da empresa distribuidora  \\\n",
       "0       Cineart Filmes           Distribuição Nacional   \n",
       "1  Ponto de Equilíbrio           Distribuição Nacional   \n",
       "2           Imovision            Distribuição Nacional   \n",
       "\n",
       "   Público no ano de exibição  Renda (R$) no ano de exibição  Mês  \n",
       "0                         714                        9437.45   11  \n",
       "1                           7                          63.00   11  \n",
       "2                         262                        3791.63    1  "
      ]
     },
     "execution_count": 16,
     "metadata": {},
     "output_type": "execute_result"
    }
   ],
   "source": [
    "n_df.head(3)"
   ]
  },
  {
   "cell_type": "code",
   "execution_count": 17,
   "metadata": {},
   "outputs": [
    {
     "data": {
      "text/plain": [
       "2015    748\n",
       "2016    727\n",
       "2017    678\n",
       "2014    640\n",
       "2009    583\n",
       "Name: Ano de exibição, dtype: int64"
      ]
     },
     "execution_count": 17,
     "metadata": {},
     "output_type": "execute_result"
    }
   ],
   "source": [
    "# Quais os anos tiveram mais filmes lançados?\n",
    "n_df['Ano de exibição'].value_counts().nlargest(5)"
   ]
  },
  {
   "cell_type": "code",
   "execution_count": 18,
   "metadata": {},
   "outputs": [
    {
     "data": {
      "text/plain": [
       "<AxesSubplot:>"
      ]
     },
     "execution_count": 18,
     "metadata": {},
     "output_type": "execute_result"
    },
    {
     "data": {
      "image/png": "[encoded data removed]",
      "text/plain": [
       "<Figure size 432x288 with 1 Axes>"
      ]
     },
     "metadata": {
      "needs_background": "light"
     },
     "output_type": "display_data"
    }
   ],
   "source": [
    "n_df['Ano de exibição'].value_counts().nlargest(10).plot.bar()"
   ]
  },
  {
   "cell_type": "code",
   "execution_count": 19,
   "metadata": {},
   "outputs": [
    {
     "data": {
      "text/html": [
       "<div>\n",
       "<style scoped>\n",
       "    .dataframe tbody tr th:only-of-type {\n",
       "        vertical-align: middle;\n",
       "    }\n",
       "\n",
       "    .dataframe tbody tr th {\n",
       "        vertical-align: top;\n",
       "    }\n",
       "\n",
       "    .dataframe thead th {\n",
       "        text-align: right;\n",
       "    }\n",
       "</style>\n",
       "<table border=\"1\" class=\"dataframe\">\n",
       "  <thead>\n",
       "    <tr style=\"text-align: right;\">\n",
       "      <th></th>\n",
       "      <th>Ano de exibição</th>\n",
       "      <th>Título da obra</th>\n",
       "      <th>Gênero</th>\n",
       "      <th>País(es) produtor(es) da obra</th>\n",
       "      <th>Nacionalidade da obra</th>\n",
       "      <th>Data de lançamento</th>\n",
       "      <th>Distribuidora</th>\n",
       "      <th>Origem da empresa distribuidora</th>\n",
       "      <th>Público no ano de exibição</th>\n",
       "      <th>Renda (R$) no ano de exibição</th>\n",
       "      <th>Mês</th>\n",
       "    </tr>\n",
       "  </thead>\n",
       "  <tbody>\n",
       "    <tr>\n",
       "      <th>2249</th>\n",
       "      <td>2015</td>\n",
       "      <td>Vingadores: A Era de Ultron</td>\n",
       "      <td>Ficção</td>\n",
       "      <td>Estados Unidos</td>\n",
       "      <td>Estrangeiros</td>\n",
       "      <td>2015-04-23</td>\n",
       "      <td>Disney</td>\n",
       "      <td>Distribuição Internacional</td>\n",
       "      <td>10129071</td>\n",
       "      <td>146184931.0</td>\n",
       "      <td>4</td>\n",
       "    </tr>\n",
       "  </tbody>\n",
       "</table>\n",
       "</div>"
      ],
      "text/plain": [
       "      Ano de exibição               Título da obra  Gênero  \\\n",
       "2249             2015  Vingadores: A Era de Ultron  Ficção   \n",
       "\n",
       "     País(es) produtor(es) da obra Nacionalidade da obra Data de lançamento  \\\n",
       "2249                Estados Unidos          Estrangeiros         2015-04-23   \n",
       "\n",
       "     Distribuidora Origem da empresa distribuidora  \\\n",
       "2249        Disney      Distribuição Internacional   \n",
       "\n",
       "      Público no ano de exibição  Renda (R$) no ano de exibição  Mês  \n",
       "2249                    10129071                    146184931.0    4  "
      ]
     },
     "execution_count": 19,
     "metadata": {},
     "output_type": "execute_result"
    }
   ],
   "source": [
    "# Qual filme teve maior bilheteria?\n",
    "n_df[n_df['Renda (R$) no ano de exibição'] == n_df['Renda (R$) no ano de exibição'].max()]"
   ]
  },
  {
   "cell_type": "code",
   "execution_count": 20,
   "metadata": {},
   "outputs": [
    {
     "data": {
      "text/html": [
       "<div>\n",
       "<style scoped>\n",
       "    .dataframe tbody tr th:only-of-type {\n",
       "        vertical-align: middle;\n",
       "    }\n",
       "\n",
       "    .dataframe tbody tr th {\n",
       "        vertical-align: top;\n",
       "    }\n",
       "\n",
       "    .dataframe thead th {\n",
       "        text-align: right;\n",
       "    }\n",
       "</style>\n",
       "<table border=\"1\" class=\"dataframe\">\n",
       "  <thead>\n",
       "    <tr style=\"text-align: right;\">\n",
       "      <th></th>\n",
       "      <th>Ano de exibição</th>\n",
       "      <th>Título da obra</th>\n",
       "      <th>Gênero</th>\n",
       "      <th>País(es) produtor(es) da obra</th>\n",
       "      <th>Nacionalidade da obra</th>\n",
       "      <th>Data de lançamento</th>\n",
       "      <th>Distribuidora</th>\n",
       "      <th>Origem da empresa distribuidora</th>\n",
       "      <th>Público no ano de exibição</th>\n",
       "      <th>Renda (R$) no ano de exibição</th>\n",
       "      <th>Mês</th>\n",
       "    </tr>\n",
       "  </thead>\n",
       "  <tbody>\n",
       "    <tr>\n",
       "      <th>2249</th>\n",
       "      <td>2015</td>\n",
       "      <td>Vingadores: A Era de Ultron</td>\n",
       "      <td>Ficção</td>\n",
       "      <td>Estados Unidos</td>\n",
       "      <td>Estrangeiros</td>\n",
       "      <td>2015-04-23</td>\n",
       "      <td>Disney</td>\n",
       "      <td>Distribuição Internacional</td>\n",
       "      <td>10129071</td>\n",
       "      <td>146184931.0</td>\n",
       "      <td>4</td>\n",
       "    </tr>\n",
       "  </tbody>\n",
       "</table>\n",
       "</div>"
      ],
      "text/plain": [
       "      Ano de exibição               Título da obra  Gênero  \\\n",
       "2249             2015  Vingadores: A Era de Ultron  Ficção   \n",
       "\n",
       "     País(es) produtor(es) da obra Nacionalidade da obra Data de lançamento  \\\n",
       "2249                Estados Unidos          Estrangeiros         2015-04-23   \n",
       "\n",
       "     Distribuidora Origem da empresa distribuidora  \\\n",
       "2249        Disney      Distribuição Internacional   \n",
       "\n",
       "      Público no ano de exibição  Renda (R$) no ano de exibição  Mês  \n",
       "2249                    10129071                    146184931.0    4  "
      ]
     },
     "execution_count": 20,
     "metadata": {},
     "output_type": "execute_result"
    }
   ],
   "source": [
    "# outro método 'Qual filme teve maior bilheteria'\n",
    "n_df.nlargest(1, 'Renda (R$) no ano de exibição')"
   ]
  },
  {
   "cell_type": "code",
   "execution_count": 23,
   "metadata": {},
   "outputs": [
    {
     "data": {
      "text/html": [
       "<div>\n",
       "<style scoped>\n",
       "    .dataframe tbody tr th:only-of-type {\n",
       "        vertical-align: middle;\n",
       "    }\n",
       "\n",
       "    .dataframe tbody tr th {\n",
       "        vertical-align: top;\n",
       "    }\n",
       "\n",
       "    .dataframe thead th {\n",
       "        text-align: right;\n",
       "    }\n",
       "</style>\n",
       "<table border=\"1\" class=\"dataframe\">\n",
       "  <thead>\n",
       "    <tr style=\"text-align: right;\">\n",
       "      <th></th>\n",
       "      <th>Ano de exibição</th>\n",
       "      <th>Título da obra</th>\n",
       "      <th>Gênero</th>\n",
       "      <th>País(es) produtor(es) da obra</th>\n",
       "      <th>Nacionalidade da obra</th>\n",
       "      <th>Data de lançamento</th>\n",
       "      <th>Distribuidora</th>\n",
       "      <th>Origem da empresa distribuidora</th>\n",
       "      <th>Público no ano de exibição</th>\n",
       "      <th>Renda (R$) no ano de exibição</th>\n",
       "      <th>Mês</th>\n",
       "    </tr>\n",
       "  </thead>\n",
       "  <tbody>\n",
       "    <tr>\n",
       "      <th>2277</th>\n",
       "      <td>2014</td>\n",
       "      <td>A Batalha do passinho</td>\n",
       "      <td>Documentário</td>\n",
       "      <td>Brasil</td>\n",
       "      <td>Brasileiros</td>\n",
       "      <td>2013-10-11</td>\n",
       "      <td>Cine Santa Teresa</td>\n",
       "      <td>Distribuição Nacional</td>\n",
       "      <td>355</td>\n",
       "      <td>0.0</td>\n",
       "      <td>10</td>\n",
       "    </tr>\n",
       "  </tbody>\n",
       "</table>\n",
       "</div>"
      ],
      "text/plain": [
       "      Ano de exibição         Título da obra        Gênero  \\\n",
       "2277             2014  A Batalha do passinho  Documentário   \n",
       "\n",
       "     País(es) produtor(es) da obra Nacionalidade da obra Data de lançamento  \\\n",
       "2277                        Brasil           Brasileiros         2013-10-11   \n",
       "\n",
       "          Distribuidora Origem da empresa distribuidora  \\\n",
       "2277  Cine Santa Teresa           Distribuição Nacional   \n",
       "\n",
       "      Público no ano de exibição  Renda (R$) no ano de exibição  Mês  \n",
       "2277                         355                            0.0   10  "
      ]
     },
     "execution_count": 23,
     "metadata": {},
     "output_type": "execute_result"
    }
   ],
   "source": [
    "# Qual filme teve a menor bilheretia?\n",
    "n_df.nsmallest(1, 'Renda (R$) no ano de exibição')"
   ]
  },
  {
   "cell_type": "code",
   "execution_count": 24,
   "metadata": {},
   "outputs": [
    {
     "name": "stdout",
     "output_type": "stream",
     "text": [
      "Object `estrangeiros` not found.\n"
     ]
    },
    {
     "data": {
      "text/plain": [
       "Estrangeiros    3902\n",
       "Brasileiros     1614\n",
       "Name: Nacionalidade da obra, dtype: int64"
      ]
     },
     "execution_count": 24,
     "metadata": {},
     "output_type": "execute_result"
    }
   ],
   "source": [
    "Quantos filmes foram brasileiros e estrangeiros?\n",
    "n_df['Nacionalidade da obra'].value_counts()"
   ]
  },
  {
   "cell_type": "code",
   "execution_count": 31,
   "metadata": {},
   "outputs": [
    {
     "data": {
      "text/plain": [
       "Nacionalidade da obra\n",
       "Brasileiros     2.077782e+09\n",
       "Estrangeiros    1.456441e+10\n",
       "Name: Renda (R$) no ano de exibição, dtype: float64"
      ]
     },
     "execution_count": 31,
     "metadata": {},
     "output_type": "execute_result"
    }
   ],
   "source": [
    "#Qual a renda dos filmes estrangeiros exibidos no Brasil?\n",
    "n_df.groupby(by='Nacionalidade da obra')['Renda (R$) no ano de exibição'].sum()"
   ]
  },
  {
   "cell_type": "code",
   "execution_count": null,
   "metadata": {},
   "outputs": [],
   "source": []
  }
 ],
 "metadata": {
  "kernelspec": {
   "display_name": "Python 3",
   "language": "python",
   "name": "python3"
  },
  "language_info": {
   "codemirror_mode": {
    "name": "ipython",
    "version": 3
   },
   "file_extension": ".py",
   "mimetype": "text/x-python",
   "name": "python",
   "nbconvert_exporter": "python",
   "pygments_lexer": "ipython3",
   "version": "3.8.5"
  }
 },
 "nbformat": 4,
 "nbformat_minor": 4
}
